{
 "cells": [
  {
   "cell_type": "code",
   "execution_count": 25,
   "id": "3f7b4ea5",
   "metadata": {},
   "outputs": [],
   "source": [
    "import yfinance as yf\n",
    "import pandas as pd\n",
    "import csv"
   ]
  },
  {
   "cell_type": "markdown",
   "id": "b1a4a31f",
   "metadata": {},
   "source": [
    "## Problem 1: Date from yfinance\n",
    "\n",
    "In the code cell below I create a function called get_data(). The core purpose of this function is to quickly download and process data for the 5 FAANG stocks for the past 5 days.\n",
    "\n",
    "A problem I ran improper indexing. When I first tried to convert the data to csv format, only two columns were converted. I researched multi indexing so that I could have the 'Close', 'Open', 'Volume' headings as index objects above each of the stocks, to improve readability and also to instuct python to properly convert the data frame into a readable csv file.\n",
    "\n",
    "multi indexing reference: https://pandas.pydata.org/pandas-docs/stable/user_guide/advanced.html\n",
    "\n",
    "\n"
   ]
  },
  {
   "cell_type": "code",
   "execution_count": 27,
   "id": "d2c097fa",
   "metadata": {},
   "outputs": [
    {
     "name": "stderr",
     "output_type": "stream",
     "text": [
      "C:\\Users\\fmtie\\AppData\\Local\\Temp\\ipykernel_27824\\626179919.py:5: FutureWarning: YF.download() has changed argument auto_adjust default to True\n",
      "  faang_stock_data_past_5_days = yf.download('meta aapl amzn nflx goog', period=\"5d\") # reference: https://ranaroussi.github.io/yfinance/reference/yfinance.ticker_tickers.html\n",
      "[*********************100%***********************]  5 of 5 completed\n"
     ]
    }
   ],
   "source": [
    "# writing a function called get_data() to fetch data from the past 5 days for the FAANG stocks\n",
    "\n",
    "def get_data():\n",
    "    file_path = r'C:\\Users\\fmtie\\OneDrive\\Desktop\\comp-infrastructure\\data\\five_day_faang_data.csv'\n",
    "    faang_stock_data_past_5_days = yf.download('meta aapl amzn nflx goog', period=\"5d\") # reference: https://ranaroussi.github.io/yfinance/reference/yfinance.ticker_tickers.html\n",
    "    faang_stock_data_frame = pd.DataFrame(faang_stock_data_past_5_days)\n",
    "    pd.MultiIndex.from_frame(faang_stock_data_frame)\n",
    "    faang_stock_data_frame.to_csv(file_path)\n",
    "\n",
    "\n",
    "\n",
    "get_data()\n",
    "\n",
    "\n"
   ]
  },
  {
   "cell_type": "code",
   "execution_count": null,
   "id": "3b0c23ee",
   "metadata": {},
   "outputs": [],
   "source": []
  }
 ],
 "metadata": {
  "kernelspec": {
   "display_name": "base",
   "language": "python",
   "name": "python3"
  },
  "language_info": {
   "codemirror_mode": {
    "name": "ipython",
    "version": 3
   },
   "file_extension": ".py",
   "mimetype": "text/x-python",
   "name": "python",
   "nbconvert_exporter": "python",
   "pygments_lexer": "ipython3",
   "version": "3.12.7"
  }
 },
 "nbformat": 4,
 "nbformat_minor": 5
}
