{
 "cells": [
  {
   "cell_type": "code",
   "execution_count": null,
   "id": "3f7b4ea5",
   "metadata": {},
   "outputs": [],
   "source": [
    "import yfinance as yf\n",
    "import pandas as pd\n",
    "import matplotlib.pyplot as plt"
   ]
  },
  {
   "cell_type": "markdown",
   "id": "b1a4a31f",
   "metadata": {},
   "source": [
    "## Problem 1: Date from yfinance\n",
    "\n",
    "In the code cell below I create a function called get_data(). The core purpose of this function is to quickly download and process data for the 5 FAANG stocks for the past 5 days.\n",
    "\n",
    "A problem I ran improper indexing. When I first tried to convert the data to csv format, only two columns were converted. I researched multi indexing so that I could have the 'Close', 'Open', 'Volume' headings as index objects above each of the stocks, to improve readability and also to instuct python to properly convert the data frame into a readable csv file.\n",
    "\n",
    "multi indexing reference: https://pandas.pydata.org/pandas-docs/stable/user_guide/advanced.html\n",
    "\n",
    "\n"
   ]
  },
  {
   "cell_type": "code",
   "execution_count": null,
   "id": "d2c097fa",
   "metadata": {},
   "outputs": [],
   "source": [
    "# writing a function called get_data() to fetch data from the past 5 days for the FAANG stocks\n",
    "\n",
    "def get_data():\n",
    "    current_date_time = pd.Timestamp.now().strftime('%Y%m%d-%H%M%S') #reference: https://docs.python.org/3/library/datetime.html#strftime-and-strptime-behavior\n",
    "    file_path = f'C:/Users/fmtie/OneDrive/Desktop/comp-infrastructure/data/{current_date_time}.csv'\n",
    "    faang_stock_data_past_5_days = yf.download('meta aapl amzn nflx goog', period=\"5d\") # reference: https://ranaroussi.github.io/yfinance/reference/yfinance.ticker_tickers.html\n",
    "    faang_stock_data_frame = pd.DataFrame(faang_stock_data_past_5_days)\n",
    "    pd.MultiIndex.from_frame(faang_stock_data_frame)\n",
    "    faang_stock_data_frame.to_csv(file_path)\n",
    "\n",
    "    return file_path\n",
    "\n",
    "# this runs the function, while also storing the file path used which I need for my next function\n",
    "file_path = get_data()\n"
   ]
  },
  {
   "cell_type": "markdown",
   "id": "3b0c23ee",
   "metadata": {},
   "source": [
    "## Problem 2 Plotting Data\n",
    "Below I attempt to begin plotting the data stored in the .csv file I have just created. I refer to Wes McKinney's book 'Python for Data Analysis' chapter 9 to create a figure with 4 sub plots to allow me to create the prescribed close prices plot, as well as other plots I think might be useful."
   ]
  },
  {
   "cell_type": "code",
   "execution_count": null,
   "id": "e27f2ab0",
   "metadata": {},
   "outputs": [],
   "source": [
    "df = pd.read_csv(file_path)\n",
    "#print(df)\n",
    "pd.MultiIndex.from_frame(df)\n",
    "print(df[2, 3])\n",
    "\n",
    "\n",
    "def plot_data():\n",
    "    df = pd.read_csv(file_path)\n",
    "    fig = plt.figure()\n",
    "    ax1 = fig.add_subplot(2, 2, 1)\n",
    "    ax2 = fig.add_subplot(2, 2, 2)\n",
    "    ax3 = fig.add_subplot(2, 2, 3)\n",
    "    ax4 = fig.add_subplot(2, 2, 4)\n",
    "    ax1.plot(df['Close']), ax1.set_title('Close Prices'), ax1.set_xlabel('Date'), ax1.set_ylabel('Price ($)')\n",
    "\n",
    "#plot_data()\n"
   ]
  },
  {
   "cell_type": "code",
   "execution_count": null,
   "id": "f2a28cdc",
   "metadata": {},
   "outputs": [],
   "source": []
  }
 ],
 "metadata": {
  "kernelspec": {
   "display_name": "base",
   "language": "python",
   "name": "python3"
  },
  "language_info": {
   "codemirror_mode": {
    "name": "ipython",
    "version": 3
   },
   "file_extension": ".py",
   "mimetype": "text/x-python",
   "name": "python",
   "nbconvert_exporter": "python",
   "pygments_lexer": "ipython3",
   "version": "3.12.7"
  }
 },
 "nbformat": 4,
 "nbformat_minor": 5
}
